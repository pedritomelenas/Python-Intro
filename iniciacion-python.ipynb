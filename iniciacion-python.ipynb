{
 "cells": [
  {
   "cell_type": "markdown",
   "source": "# Una introducción a la programación en `python`\n\nEsta es una introducción básica a la programación en `python`\n\nUna buena referencia de iniciación puede ser [think python](http://greenteapress.com/wp/think-python) y también [Python para todos](http://mundogeek.net/tutorial-python)",
   "metadata": {
    "cell_id": "00000-1751b5d6-d374-490a-bac2-5e97b4b2abf9",
    "deepnote_cell_type": "markdown"
   }
  },
  {
   "cell_type": "markdown",
   "source": "## Tipos básicos",
   "metadata": {
    "cell_id": "00001-0aa5b5e5-c5f3-4b02-b571-287fd21f9a8d",
    "deepnote_cell_type": "markdown"
   }
  },
  {
   "cell_type": "markdown",
   "source": "Tenemos tipos booleanos: verdadero y falso",
   "metadata": {
    "cell_id": "00002-62e01ed0-678c-4d93-8a5e-62b38f558eff",
    "deepnote_cell_type": "markdown"
   }
  },
  {
   "cell_type": "code",
   "metadata": {
    "cell_id": "00003-a5cb0215-3fa7-4c17-88d5-1f1f4547dff3",
    "deepnote_to_be_reexecuted": false,
    "source_hash": "9a56fbb2",
    "execution_start": 1634665101172,
    "execution_millis": 20,
    "deepnote_cell_type": "code"
   },
   "source": "type(True)",
   "execution_count": 1,
   "outputs": [
    {
     "output_type": "execute_result",
     "execution_count": 1,
     "data": {
      "text/plain": "bool"
     },
     "metadata": {}
    }
   ]
  },
  {
   "cell_type": "code",
   "metadata": {
    "cell_id": "00004-ca884651-064d-484a-a604-44f22a8d79f9",
    "deepnote_to_be_reexecuted": false,
    "source_hash": "210686a0",
    "execution_start": 1634665101787,
    "execution_millis": 13,
    "deepnote_cell_type": "code"
   },
   "source": "True or False",
   "execution_count": 2,
   "outputs": [
    {
     "output_type": "execute_result",
     "execution_count": 2,
     "data": {
      "text/plain": "True"
     },
     "metadata": {}
    }
   ]
  },
  {
   "cell_type": "markdown",
   "source": "Varios tipos de números",
   "metadata": {
    "cell_id": "00005-cf5e2a39-0538-4e59-aadf-4c62f82ece2f",
    "deepnote_cell_type": "markdown"
   }
  },
  {
   "cell_type": "code",
   "metadata": {
    "scrolled": true,
    "cell_id": "00006-92427d4d-759d-439c-9a41-4b8b29d2168e",
    "deepnote_to_be_reexecuted": false,
    "source_hash": "ed32f282",
    "execution_start": 1634665103520,
    "execution_millis": 12,
    "deepnote_cell_type": "code"
   },
   "source": "type(3.5)",
   "execution_count": 3,
   "outputs": [
    {
     "output_type": "execute_result",
     "execution_count": 3,
     "data": {
      "text/plain": "float"
     },
     "metadata": {}
    }
   ]
  },
  {
   "cell_type": "code",
   "metadata": {
    "cell_id": "00007-ef90ba66-e6a6-4212-8a8e-cf5c32b1d408",
    "deepnote_to_be_reexecuted": false,
    "source_hash": "e6d17bd2",
    "execution_start": 1634665105027,
    "execution_millis": 36,
    "deepnote_cell_type": "code"
   },
   "source": "type(2+3j)",
   "execution_count": 4,
   "outputs": [
    {
     "output_type": "execute_result",
     "execution_count": 4,
     "data": {
      "text/plain": "complex"
     },
     "metadata": {}
    }
   ]
  },
  {
   "cell_type": "code",
   "metadata": {
    "scrolled": true,
    "cell_id": "00008-51c26b28-ee00-4a5c-b6be-eabe2ba9c56a",
    "deepnote_to_be_reexecuted": false,
    "source_hash": "1fa4ebe8",
    "execution_start": 1634665107100,
    "execution_millis": 186,
    "deepnote_cell_type": "code"
   },
   "source": "type(3)",
   "execution_count": 5,
   "outputs": [
    {
     "output_type": "execute_result",
     "execution_count": 5,
     "data": {
      "text/plain": "int"
     },
     "metadata": {}
    }
   ]
  },
  {
   "cell_type": "markdown",
   "source": "Véase [tipos predefinidos](https://docs.python.org/3/library/stdtypes.html) en `python` ",
   "metadata": {
    "cell_id": "00009-82ce60dc-2be4-4583-9856-cec7b548480e",
    "deepnote_cell_type": "markdown"
   }
  },
  {
   "cell_type": "code",
   "metadata": {
    "scrolled": true,
    "cell_id": "00010-034abd73-87c8-439f-a26b-572633e130fb",
    "deepnote_to_be_reexecuted": false,
    "source_hash": "6578c3a2",
    "execution_start": 1634665114414,
    "execution_millis": 0,
    "deepnote_cell_type": "code"
   },
   "source": "pow(2.0,100)",
   "execution_count": 6,
   "outputs": [
    {
     "output_type": "execute_result",
     "execution_count": 6,
     "data": {
      "text/plain": "1.2676506002282294e+30"
     },
     "metadata": {}
    }
   ]
  },
  {
   "cell_type": "code",
   "metadata": {
    "scrolled": true,
    "cell_id": "00011-eaabc6bd-00e2-4ed1-9270-444a2d5cc6a1",
    "deepnote_to_be_reexecuted": false,
    "source_hash": "661e2762",
    "execution_start": 1634665114689,
    "execution_millis": 19,
    "deepnote_cell_type": "code"
   },
   "source": "pow(2,100)",
   "execution_count": 7,
   "outputs": [
    {
     "output_type": "execute_result",
     "execution_count": 7,
     "data": {
      "text/plain": "1267650600228229401496703205376"
     },
     "metadata": {}
    }
   ]
  },
  {
   "cell_type": "markdown",
   "source": "Y operaciones entre ellos",
   "metadata": {
    "cell_id": "00012-33ea7294-b503-438c-9a22-e49983a8f04a",
    "deepnote_cell_type": "markdown"
   }
  },
  {
   "cell_type": "code",
   "metadata": {
    "cell_id": "00013-d97cbb4b-14df-4ba7-850a-20bad36b4d9f",
    "deepnote_to_be_reexecuted": false,
    "source_hash": "e14c9471",
    "execution_start": 1634665115741,
    "execution_millis": 10,
    "deepnote_cell_type": "code"
   },
   "source": "3%2",
   "execution_count": 8,
   "outputs": [
    {
     "output_type": "execute_result",
     "execution_count": 8,
     "data": {
      "text/plain": "1"
     },
     "metadata": {}
    }
   ]
  },
  {
   "cell_type": "code",
   "metadata": {
    "cell_id": "00014-a98883f4-d82a-42d6-af7b-b406cfb4c856",
    "deepnote_to_be_reexecuted": false,
    "source_hash": "56fc144",
    "execution_start": 1634665117795,
    "execution_millis": 2,
    "deepnote_cell_type": "code"
   },
   "source": "2**3",
   "execution_count": 9,
   "outputs": [
    {
     "output_type": "execute_result",
     "execution_count": 9,
     "data": {
      "text/plain": "8"
     },
     "metadata": {}
    }
   ]
  },
  {
   "cell_type": "code",
   "metadata": {
    "cell_id": "00015-b86657c5-ec79-4753-9b94-b9c6c337f2a1",
    "deepnote_to_be_reexecuted": false,
    "source_hash": "f35691e3",
    "execution_start": 1634665119224,
    "execution_millis": 16,
    "deepnote_cell_type": "code"
   },
   "source": "2/3",
   "execution_count": 10,
   "outputs": [
    {
     "output_type": "execute_result",
     "execution_count": 10,
     "data": {
      "text/plain": "0.6666666666666666"
     },
     "metadata": {}
    }
   ]
  },
  {
   "cell_type": "code",
   "metadata": {
    "cell_id": "00016-3f0cbbe6-c15b-4de2-8058-25f506e3be51",
    "deepnote_to_be_reexecuted": false,
    "source_hash": "8576632d",
    "execution_start": 1634665122889,
    "execution_millis": 16,
    "deepnote_cell_type": "code"
   },
   "source": "2//3",
   "execution_count": 11,
   "outputs": [
    {
     "output_type": "execute_result",
     "execution_count": 11,
     "data": {
      "text/plain": "0"
     },
     "metadata": {}
    }
   ]
  },
  {
   "cell_type": "markdown",
   "source": "También tenemos cadenas (que se comportan en muchos sentidos como listas como veremos más abajo)",
   "metadata": {
    "cell_id": "00017-d812a312-b1fb-43e4-9128-c8a5955d3278",
    "deepnote_cell_type": "markdown"
   }
  },
  {
   "cell_type": "code",
   "metadata": {
    "cell_id": "00018-71661996-a3f6-4118-86c4-dff4a0c4f34c",
    "deepnote_cell_type": "code"
   },
   "source": "\"Hola mundo\"",
   "execution_count": 12,
   "outputs": [
    {
     "data": {
      "text/plain": "'Hola mundo'"
     },
     "execution_count": 12,
     "metadata": {},
     "output_type": "execute_result"
    }
   ]
  },
  {
   "cell_type": "code",
   "metadata": {
    "cell_id": "00019-28bd0516-6005-4ab4-86b5-52d687ea8a17",
    "deepnote_to_be_reexecuted": false,
    "source_hash": "20f45116",
    "execution_start": 1634665135734,
    "execution_millis": 145,
    "deepnote_cell_type": "code"
   },
   "source": "\"\"\"\nUna cadena con \nsaltos de línea\n\"\"\"",
   "execution_count": 12,
   "outputs": [
    {
     "output_type": "execute_result",
     "execution_count": 12,
     "data": {
      "text/plain": "'\\nUna cadena con \\nsaltos de línea\\n'"
     },
     "metadata": {}
    }
   ]
  },
  {
   "cell_type": "code",
   "metadata": {
    "cell_id": "00020-ddf24330-0335-4183-a007-a91c77607309",
    "deepnote_to_be_reexecuted": false,
    "source_hash": "e9371493",
    "execution_start": 1634665136321,
    "execution_millis": 22,
    "deepnote_cell_type": "code"
   },
   "source": "print(_)",
   "execution_count": 13,
   "outputs": [
    {
     "name": "stdout",
     "text": "\nUna cadena con \nsaltos de línea\n\n",
     "output_type": "stream"
    }
   ]
  },
  {
   "cell_type": "markdown",
   "source": "Las cadenas también se pueden sumar y multiplicar (las asignaciones se hacen con `=`, y la comparación de igualdad con `==`)",
   "metadata": {
    "cell_id": "00021-4e83fb59-a3fc-4248-b329-a1c48d36a8e9",
    "deepnote_cell_type": "markdown"
   }
  },
  {
   "cell_type": "code",
   "metadata": {
    "cell_id": "00022-48121095-b9e2-46bc-8c2e-8d908abaabca",
    "deepnote_cell_type": "code"
   },
   "source": "a=\"Hola\"\nb=\" mundo\"\na+b",
   "execution_count": 15,
   "outputs": [
    {
     "data": {
      "text/plain": "'Hola mundo'"
     },
     "execution_count": 15,
     "metadata": {},
     "output_type": "execute_result"
    }
   ]
  },
  {
   "cell_type": "code",
   "metadata": {
    "cell_id": "00023-700d8182-053f-454b-a5b4-0385adc1f8bf",
    "deepnote_cell_type": "code"
   },
   "source": "a*3",
   "execution_count": 16,
   "outputs": [
    {
     "data": {
      "text/plain": "'HolaHolaHola'"
     },
     "execution_count": 16,
     "metadata": {},
     "output_type": "execute_result"
    }
   ]
  },
  {
   "cell_type": "markdown",
   "source": "Y puedo acceder a cada uno de sus caracteres",
   "metadata": {
    "cell_id": "00024-df60157a-b98b-41ec-8985-b79e60f776e0",
    "deepnote_cell_type": "markdown"
   }
  },
  {
   "cell_type": "code",
   "metadata": {
    "scrolled": true,
    "cell_id": "00025-5741e43d-60f7-422d-a9f0-16931b8d40d4",
    "deepnote_cell_type": "code"
   },
   "source": "a[2]",
   "execution_count": 17,
   "outputs": [
    {
     "data": {
      "text/plain": "'l'"
     },
     "execution_count": 17,
     "metadata": {},
     "output_type": "execute_result"
    }
   ]
  },
  {
   "cell_type": "code",
   "metadata": {
    "cell_id": "00026-f1c94dcd-b262-4e92-b062-d91c49d71e5d",
    "deepnote_cell_type": "code"
   },
   "source": "a[0]",
   "execution_count": 18,
   "outputs": [
    {
     "data": {
      "text/plain": "'H'"
     },
     "execution_count": 18,
     "metadata": {},
     "output_type": "execute_result"
    }
   ]
  },
  {
   "cell_type": "markdown",
   "source": "O comparar cadenas",
   "metadata": {
    "cell_id": "00027-b51844a5-33d3-4600-8814-8a69e766cb2e",
    "deepnote_cell_type": "markdown"
   }
  },
  {
   "cell_type": "code",
   "metadata": {
    "cell_id": "00028-c835b838-775f-481d-9b57-2d7bdc04ec9a",
    "deepnote_cell_type": "code"
   },
   "source": "a<b",
   "execution_count": 19,
   "outputs": [
    {
     "data": {
      "text/plain": "False"
     },
     "execution_count": 19,
     "metadata": {},
     "output_type": "execute_result"
    }
   ]
  },
  {
   "cell_type": "code",
   "metadata": {
    "cell_id": "00029-95180652-09ef-43dc-a5fe-873c11d6a8a9",
    "deepnote_cell_type": "code"
   },
   "source": "\"Hola\"<\"mundo\"",
   "execution_count": 20,
   "outputs": [
    {
     "data": {
      "text/plain": "True"
     },
     "execution_count": 20,
     "metadata": {},
     "output_type": "execute_result"
    }
   ]
  },
  {
   "cell_type": "markdown",
   "source": "## Listas",
   "metadata": {
    "cell_id": "00030-855e20e8-8295-48b7-b98c-b4392b7af28f",
    "deepnote_cell_type": "markdown"
   }
  },
  {
   "cell_type": "markdown",
   "source": "Las listas van entre corchetes: `[` y `]`\n\nNo tienen por qué ser homogéneas",
   "metadata": {
    "cell_id": "00031-40cb3f91-a64d-41f6-9d44-eb885a24300b",
    "deepnote_cell_type": "markdown"
   }
  },
  {
   "cell_type": "code",
   "metadata": {
    "cell_id": "00032-585e476a-d2f7-40c9-b3f6-673abc30396f",
    "deepnote_cell_type": "code"
   },
   "source": "l=[1,2,[3,4]]",
   "execution_count": 21,
   "outputs": []
  },
  {
   "cell_type": "code",
   "metadata": {
    "cell_id": "00033-239a402f-a753-415a-b293-27691d82c5a8",
    "deepnote_cell_type": "code"
   },
   "source": "l[2][0] ",
   "execution_count": 22,
   "outputs": [
    {
     "data": {
      "text/plain": "3"
     },
     "execution_count": 22,
     "metadata": {},
     "output_type": "execute_result"
    }
   ]
  },
  {
   "cell_type": "code",
   "metadata": {
    "cell_id": "00034-44c7b220-dd3b-4d4b-878c-6832063435db",
    "deepnote_cell_type": "code"
   },
   "source": "l[-1]",
   "execution_count": 23,
   "outputs": [
    {
     "data": {
      "text/plain": "[3, 4]"
     },
     "execution_count": 23,
     "metadata": {},
     "output_type": "execute_result"
    }
   ]
  },
  {
   "cell_type": "code",
   "metadata": {
    "cell_id": "00035-bc701071-ed97-427e-b7aa-af2411680be4",
    "deepnote_cell_type": "code"
   },
   "source": "len(l)",
   "execution_count": 24,
   "outputs": [
    {
     "data": {
      "text/plain": "3"
     },
     "execution_count": 24,
     "metadata": {},
     "output_type": "execute_result"
    }
   ]
  },
  {
   "cell_type": "markdown",
   "source": "A la lista podemos pracricarle cortes `inicio:fin` o bien con salto `inicio:fin:salto`",
   "metadata": {
    "cell_id": "00036-aee91161-88b7-46f4-924a-f2577db135ac",
    "deepnote_cell_type": "markdown"
   }
  },
  {
   "cell_type": "code",
   "metadata": {
    "cell_id": "00037-e9ec5315-a141-4e0e-b7f5-88760d206920",
    "deepnote_cell_type": "code"
   },
   "source": "l= list(range(10))",
   "execution_count": 25,
   "outputs": []
  },
  {
   "cell_type": "code",
   "metadata": {
    "cell_id": "00038-c312e324-99c7-4ac9-81ae-92d740081624",
    "deepnote_cell_type": "code"
   },
   "source": "l[2:5]",
   "execution_count": 26,
   "outputs": [
    {
     "data": {
      "text/plain": "[2, 3, 4]"
     },
     "execution_count": 26,
     "metadata": {},
     "output_type": "execute_result"
    }
   ]
  },
  {
   "cell_type": "code",
   "metadata": {
    "cell_id": "00039-2588d17e-5871-4c2d-bd90-9557b0be5d8a",
    "deepnote_cell_type": "code"
   },
   "source": "l[:3]",
   "execution_count": 27,
   "outputs": [
    {
     "data": {
      "text/plain": "[0, 1, 2]"
     },
     "execution_count": 27,
     "metadata": {},
     "output_type": "execute_result"
    }
   ]
  },
  {
   "cell_type": "code",
   "metadata": {
    "cell_id": "00040-13a44d80-d622-46b1-948e-f5f657860ef1",
    "deepnote_cell_type": "code"
   },
   "source": "l[2:]",
   "execution_count": 28,
   "outputs": [
    {
     "data": {
      "text/plain": "[2, 3, 4, 5, 6, 7, 8, 9]"
     },
     "execution_count": 28,
     "metadata": {},
     "output_type": "execute_result"
    }
   ]
  },
  {
   "cell_type": "code",
   "metadata": {
    "cell_id": "00041-b929bd92-c7a8-439c-ace0-f4fb1e6c4302",
    "deepnote_cell_type": "code"
   },
   "source": "l[::3]",
   "execution_count": 29,
   "outputs": [
    {
     "data": {
      "text/plain": "[0, 3, 6, 9]"
     },
     "execution_count": 29,
     "metadata": {},
     "output_type": "execute_result"
    }
   ]
  },
  {
   "cell_type": "code",
   "metadata": {
    "cell_id": "00042-3c4ca58e-3efa-4404-b7a6-20ac4fb5faca",
    "deepnote_cell_type": "code"
   },
   "source": "l+[100,102]",
   "execution_count": 30,
   "outputs": [
    {
     "data": {
      "text/plain": "[0, 1, 2, 3, 4, 5, 6, 7, 8, 9, 100, 102]"
     },
     "execution_count": 30,
     "metadata": {},
     "output_type": "execute_result"
    }
   ]
  },
  {
   "cell_type": "markdown",
   "source": "## Conjuntos",
   "metadata": {
    "cell_id": "00043-339551e7-7256-451a-88cf-d10eee7df0a6",
    "deepnote_cell_type": "markdown"
   }
  },
  {
   "cell_type": "markdown",
   "source": "A diferencia de las listas, en un conjunto, los elementos se contabilizan una sola vez\n\nNo se puede acceder a ellos con el índice del elemento ",
   "metadata": {
    "cell_id": "00044-21739d83-bd4b-486c-84ad-7caaf7ffe5ba",
    "deepnote_cell_type": "markdown"
   }
  },
  {
   "cell_type": "code",
   "metadata": {
    "cell_id": "00045-1227299c-dca5-46fc-9e80-d62319324253",
    "deepnote_cell_type": "code"
   },
   "source": "[1,1,2]",
   "execution_count": 31,
   "outputs": [
    {
     "data": {
      "text/plain": "[1, 1, 2]"
     },
     "execution_count": 31,
     "metadata": {},
     "output_type": "execute_result"
    }
   ]
  },
  {
   "cell_type": "code",
   "metadata": {
    "cell_id": "00046-3479ade9-315c-4b1b-b836-d269f3527d24",
    "deepnote_cell_type": "code"
   },
   "source": "{1,1,2}",
   "execution_count": 32,
   "outputs": [
    {
     "data": {
      "text/plain": "{1, 2}"
     },
     "execution_count": 32,
     "metadata": {},
     "output_type": "execute_result"
    }
   ]
  },
  {
   "cell_type": "code",
   "metadata": {
    "cell_id": "00047-d1f8060d-407f-44b5-864f-984cde5616a1",
    "deepnote_cell_type": "code"
   },
   "source": "s={1,2,3}",
   "execution_count": 33,
   "outputs": []
  },
  {
   "cell_type": "code",
   "metadata": {
    "scrolled": true,
    "cell_id": "00048-57c1811f-cb26-4356-aa1d-cda47d1e7744",
    "deepnote_cell_type": "code"
   },
   "source": "s.intersection({2,4})",
   "execution_count": 34,
   "outputs": [
    {
     "data": {
      "text/plain": "{2}"
     },
     "execution_count": 34,
     "metadata": {},
     "output_type": "execute_result"
    }
   ]
  },
  {
   "cell_type": "code",
   "metadata": {
    "cell_id": "00049-7584f3fb-0826-4310-8837-7704c6a6044c",
    "deepnote_cell_type": "code"
   },
   "source": "s.union({100,102})",
   "execution_count": 35,
   "outputs": [
    {
     "data": {
      "text/plain": "{1, 2, 3, 100, 102}"
     },
     "execution_count": 35,
     "metadata": {},
     "output_type": "execute_result"
    }
   ]
  },
  {
   "cell_type": "markdown",
   "source": "## Tuplas",
   "metadata": {
    "cell_id": "00050-eb115482-8f2d-4bfe-a1b6-0e3eb7c21b1a",
    "deepnote_cell_type": "markdown"
   }
  },
  {
   "cell_type": "markdown",
   "source": "Las tuplas son secuencias, esto es, objetos separados por comas\n\nPara mejor lectura se suelen dar entre paréntesis\n\nUna vez creadas, tienen un tamaño fijo",
   "metadata": {
    "cell_id": "00051-328c5846-c7ab-4feb-9373-eb97af90e920",
    "deepnote_cell_type": "markdown"
   }
  },
  {
   "cell_type": "code",
   "metadata": {
    "cell_id": "00052-fd306370-ff0f-4a2e-bdec-10a9b2a2c2e9",
    "deepnote_cell_type": "code"
   },
   "source": "c,r =divmod(10,3)",
   "execution_count": 36,
   "outputs": []
  },
  {
   "cell_type": "code",
   "metadata": {
    "cell_id": "00053-5d2159df-2ea6-4912-aa8e-8fce1db47408",
    "deepnote_cell_type": "code"
   },
   "source": "print(\"cociente \",c,\" resto \",r)",
   "execution_count": 37,
   "outputs": [
    {
     "name": "stdout",
     "output_type": "stream",
     "text": "cociente  3  resto  1\n"
    }
   ]
  },
  {
   "cell_type": "code",
   "metadata": {
    "cell_id": "00054-cd640546-f1d5-40d0-9a8f-d8d725c5b159",
    "deepnote_cell_type": "code"
   },
   "source": "t=(1,2,3)",
   "execution_count": 38,
   "outputs": []
  },
  {
   "cell_type": "code",
   "metadata": {
    "cell_id": "00055-f36a233e-8296-4652-9ee9-acb93f724d2c",
    "deepnote_cell_type": "code"
   },
   "source": "t[0]",
   "execution_count": 39,
   "outputs": [
    {
     "data": {
      "text/plain": "1"
     },
     "execution_count": 39,
     "metadata": {},
     "output_type": "execute_result"
    }
   ]
  },
  {
   "cell_type": "code",
   "metadata": {
    "cell_id": "00056-4469f1a7-7bc5-4f0d-bf46-48fbeddc406c",
    "deepnote_cell_type": "code"
   },
   "source": "s=(1,)",
   "execution_count": 40,
   "outputs": []
  },
  {
   "cell_type": "markdown",
   "source": "## Diccionarios",
   "metadata": {
    "cell_id": "00057-95daf530-8a1f-4c7f-9022-e332f429288e",
    "deepnote_cell_type": "markdown"
   }
  },
  {
   "cell_type": "markdown",
   "source": "Los diccionarios con como listas en los que el usuario controla los índices\n\nSe pueden ver como un conjunto de definiciones, a las que se puede acceder por clave y valor",
   "metadata": {
    "cell_id": "00058-74e09559-d217-4a9b-857f-1c34fbc75dfb",
    "deepnote_cell_type": "markdown"
   }
  },
  {
   "cell_type": "code",
   "metadata": {
    "cell_id": "00059-ae34c948-d969-4357-87e5-b80bab8ededb",
    "deepnote_cell_type": "code"
   },
   "source": "d={10:\"Historia\", 11:\"Geometría\", 12:\"Álgebra\", 15:\"Análisis\"}",
   "execution_count": 41,
   "outputs": []
  },
  {
   "cell_type": "code",
   "metadata": {
    "cell_id": "00060-3feb6e85-b958-4a31-aed6-a0da57dade3a",
    "deepnote_cell_type": "code"
   },
   "source": "d[10]",
   "execution_count": 42,
   "outputs": [
    {
     "data": {
      "text/plain": "'Historia'"
     },
     "execution_count": 42,
     "metadata": {},
     "output_type": "execute_result"
    }
   ]
  },
  {
   "cell_type": "code",
   "metadata": {
    "cell_id": "00061-7a61083f-855f-40a7-90e9-acc155e6f911",
    "deepnote_cell_type": "code"
   },
   "source": "d.keys()",
   "execution_count": 43,
   "outputs": [
    {
     "data": {
      "text/plain": "dict_keys([10, 11, 12, 15])"
     },
     "execution_count": 43,
     "metadata": {},
     "output_type": "execute_result"
    }
   ]
  },
  {
   "cell_type": "code",
   "metadata": {
    "cell_id": "00062-5544d9fe-d23f-42b8-91d5-4da42c0b71fc",
    "deepnote_cell_type": "code"
   },
   "source": "d.values()",
   "execution_count": 44,
   "outputs": [
    {
     "data": {
      "text/plain": "dict_values(['Historia', 'Geometría', 'Álgebra', 'Análisis'])"
     },
     "execution_count": 44,
     "metadata": {},
     "output_type": "execute_result"
    }
   ]
  },
  {
   "cell_type": "code",
   "metadata": {
    "scrolled": true,
    "cell_id": "00063-7d0e4f63-b870-4b71-b23c-e5dbd3d25965",
    "deepnote_cell_type": "code"
   },
   "source": "d.items()",
   "execution_count": 45,
   "outputs": [
    {
     "data": {
      "text/plain": "dict_items([(10, 'Historia'), (11, 'Geometría'), (12, 'Álgebra'), (15, 'Análisis')])"
     },
     "execution_count": 45,
     "metadata": {},
     "output_type": "execute_result"
    }
   ]
  },
  {
   "cell_type": "code",
   "metadata": {
    "cell_id": "00064-b5a0ebaf-bb06-4c0d-8c55-74a0a408b169",
    "deepnote_cell_type": "code"
   },
   "source": "d.update({17:\"Estadística\"})",
   "execution_count": 46,
   "outputs": []
  },
  {
   "cell_type": "code",
   "metadata": {
    "cell_id": "00065-fc9f5ec4-b7d5-414c-90c1-f822fffae8e0",
    "deepnote_cell_type": "code"
   },
   "source": "d",
   "execution_count": 47,
   "outputs": [
    {
     "data": {
      "text/plain": "{10: 'Historia',\n 11: 'Geometría',\n 12: 'Álgebra',\n 15: 'Análisis',\n 17: 'Estadística'}"
     },
     "execution_count": 47,
     "metadata": {},
     "output_type": "execute_result"
    }
   ]
  },
  {
   "cell_type": "markdown",
   "source": "## Condicionales",
   "metadata": {
    "cell_id": "00066-801eb3ad-47a4-47d3-8e77-0985e9d3bbea",
    "deepnote_cell_type": "markdown"
   }
  },
  {
   "cell_type": "code",
   "metadata": {
    "cell_id": "00067-84a894a9-63d7-4b37-a0b1-68c3b2841bbb",
    "deepnote_cell_type": "code"
   },
   "source": "x=3\nif x==3:\n    print(\"has acertado\")\n    print(\"podemos seguir\")",
   "execution_count": 48,
   "outputs": [
    {
     "name": "stdout",
     "output_type": "stream",
     "text": "has acertado\npodemos seguir\n"
    }
   ]
  },
  {
   "cell_type": "code",
   "metadata": {
    "cell_id": "00068-f0541700-8b3c-4612-8658-aedc53169606",
    "deepnote_cell_type": "code"
   },
   "source": "if x>0:\n    print(\"positivo\")\nelse:\n    print(\"negativo\")",
   "execution_count": 49,
   "outputs": [
    {
     "name": "stdout",
     "output_type": "stream",
     "text": "positivo\n"
    }
   ]
  },
  {
   "cell_type": "code",
   "metadata": {
    "cell_id": "00069-7266c7b4-e046-420c-bf2b-ac09a898b3d5",
    "deepnote_cell_type": "code"
   },
   "source": "if x>0:\n    print(\"positivo\")\nelif x<0:\n    print(\"negativo\")\nelse:\n    print(\"nulo\")",
   "execution_count": 50,
   "outputs": [
    {
     "name": "stdout",
     "output_type": "stream",
     "text": "positivo\n"
    }
   ]
  },
  {
   "cell_type": "markdown",
   "source": "Se puede utilizar también en definiciones",
   "metadata": {
    "cell_id": "00070-e1197745-a8d6-435a-9d4c-025f009abd7a",
    "deepnote_cell_type": "markdown"
   }
  },
  {
   "cell_type": "code",
   "metadata": {
    "cell_id": "00071-c092fc5b-dc13-45dc-bb46-6a89d61eb74c",
    "deepnote_cell_type": "code"
   },
   "source": "signo=1 if x>0 else -1",
   "execution_count": 51,
   "outputs": []
  },
  {
   "cell_type": "code",
   "metadata": {
    "cell_id": "00072-905a4c9a-2072-4b55-a9c7-58b550e36ca9",
    "deepnote_cell_type": "code"
   },
   "source": "signo",
   "execution_count": 52,
   "outputs": [
    {
     "data": {
      "text/plain": "1"
     },
     "execution_count": 52,
     "metadata": {},
     "output_type": "execute_result"
    }
   ]
  },
  {
   "cell_type": "markdown",
   "source": "## Bucles",
   "metadata": {
    "cell_id": "00073-d38360a8-6bd3-4071-a141-acfec4c4263f",
    "deepnote_cell_type": "markdown"
   }
  },
  {
   "cell_type": "markdown",
   "source": "Podemos utilizar `while` y `for` ",
   "metadata": {
    "cell_id": "00074-56cf17be-fb58-4844-929c-15e7257742cf",
    "deepnote_cell_type": "markdown"
   }
  },
  {
   "cell_type": "code",
   "metadata": {
    "cell_id": "00075-ea2cf1b8-4499-45d6-b31f-931b52caac38",
    "deepnote_cell_type": "code"
   },
   "source": "pares=[]\ni=0\nwhile i<20:\n    if (i%2==0):\n        pares.append(i)\n    i+=1\npares",
   "execution_count": 53,
   "outputs": [
    {
     "data": {
      "text/plain": "[0, 2, 4, 6, 8, 10, 12, 14, 16, 18]"
     },
     "execution_count": 53,
     "metadata": {},
     "output_type": "execute_result"
    }
   ]
  },
  {
   "cell_type": "code",
   "metadata": {
    "cell_id": "00076-629691d7-349e-4369-8cb6-1274e398b96c",
    "deepnote_cell_type": "code"
   },
   "source": "l=range(10)\ni=0\nwhile True:\n    x=l[i]\n    if (x%5==0):\n        print(\"lo encontré\")\n        break\n    i+=1",
   "execution_count": 54,
   "outputs": [
    {
     "name": "stdout",
     "output_type": "stream",
     "text": "lo encontré\n"
    }
   ]
  },
  {
   "cell_type": "code",
   "metadata": {
    "cell_id": "00077-e6125fc5-60b5-4d2e-b3bf-0c171db0f75f",
    "deepnote_cell_type": "code"
   },
   "source": "fin=False\nl=range(10)\ni=0\nwhile (not fin) and (i<10):\n    x=l[i]\n    if (x%5==3):\n        fin=True\n        print(\"eureka\")\n    i=i+1\ni",
   "execution_count": 55,
   "outputs": [
    {
     "name": "stdout",
     "output_type": "stream",
     "text": "eureka\n"
    },
    {
     "data": {
      "text/plain": "4"
     },
     "execution_count": 55,
     "metadata": {},
     "output_type": "execute_result"
    }
   ]
  },
  {
   "cell_type": "markdown",
   "source": "Veamos ahora el `for`",
   "metadata": {
    "cell_id": "00078-971296db-361c-48bb-97e9-51cabd27af79",
    "deepnote_cell_type": "markdown"
   }
  },
  {
   "cell_type": "code",
   "metadata": {
    "cell_id": "00079-0d9a5a64-a711-45fc-866a-119f38b9f562",
    "deepnote_cell_type": "code"
   },
   "source": "l=range(10)\ns=0\nfor x in l:\n    s+=x\ns",
   "execution_count": 56,
   "outputs": [
    {
     "data": {
      "text/plain": "45"
     },
     "execution_count": 56,
     "metadata": {},
     "output_type": "execute_result"
    }
   ]
  },
  {
   "cell_type": "markdown",
   "source": "## Definición compacta de colecciones",
   "metadata": {
    "cell_id": "00080-857681c4-ac1e-48f3-b794-f235ad250a70",
    "deepnote_cell_type": "markdown"
   }
  },
  {
   "cell_type": "markdown",
   "source": "Hay formas convenientes de definir colecciones al estilo de las que se usan en matemáticas $\\{x \\in X \\mid \\textrm{condición } x\\}$",
   "metadata": {
    "cell_id": "00081-88d342de-612f-4636-a6c3-a673d73a0a55",
    "deepnote_cell_type": "markdown"
   }
  },
  {
   "cell_type": "code",
   "metadata": {
    "cell_id": "00082-a2dea39f-4232-4d2b-9730-b22fdad4f92d",
    "deepnote_cell_type": "code"
   },
   "source": "[x for x in range(10) if x%3==0]",
   "execution_count": 57,
   "outputs": [
    {
     "data": {
      "text/plain": "[0, 3, 6, 9]"
     },
     "execution_count": 57,
     "metadata": {},
     "output_type": "execute_result"
    }
   ]
  },
  {
   "cell_type": "code",
   "metadata": {
    "cell_id": "00083-fafea8c3-b1ed-4873-ab90-59d03c15d498",
    "deepnote_cell_type": "code"
   },
   "source": "{(a,b) for a in range(4) for b in range (4) if (a-b)%3==0}",
   "execution_count": 58,
   "outputs": [
    {
     "data": {
      "text/plain": "{(0, 0), (0, 3), (1, 1), (2, 2), (3, 0), (3, 3)}"
     },
     "execution_count": 58,
     "metadata": {},
     "output_type": "execute_result"
    }
   ]
  },
  {
   "cell_type": "markdown",
   "source": "Incluso tenemos métodos para saber si todos los elementos (o alguno) verifican una condición dada",
   "metadata": {
    "cell_id": "00084-db28fc21-ac71-4c16-be74-c7c94e06478d",
    "deepnote_cell_type": "markdown"
   }
  },
  {
   "cell_type": "code",
   "metadata": {
    "cell_id": "00085-e315473e-15ff-4f21-a38b-7a94ac1b1571",
    "deepnote_cell_type": "code"
   },
   "source": "all(x%2==0 for x in [1,2,3])",
   "execution_count": 59,
   "outputs": [
    {
     "data": {
      "text/plain": "False"
     },
     "execution_count": 59,
     "metadata": {},
     "output_type": "execute_result"
    }
   ]
  },
  {
   "cell_type": "code",
   "metadata": {
    "cell_id": "00086-b29e1771-df57-44d6-b588-c7a5d5403c4b",
    "deepnote_cell_type": "code"
   },
   "source": "any(x%2==0 for x in [1,2,3])",
   "execution_count": 60,
   "outputs": [
    {
     "data": {
      "text/plain": "True"
     },
     "execution_count": 60,
     "metadata": {},
     "output_type": "execute_result"
    }
   ]
  },
  {
   "cell_type": "markdown",
   "source": "## Generadores",
   "metadata": {
    "cell_id": "00087-185609e7-52d5-4ebc-9bfc-18d8c17aed93",
    "deepnote_cell_type": "markdown"
   }
  },
  {
   "cell_type": "markdown",
   "source": "Si en vez de usar listas, `[..]`, utilizamos tuplas en las definiciones anteriores, se crea un generador",
   "metadata": {
    "cell_id": "00088-317a99c3-dbf2-432f-98bc-b051dfdb39ed",
    "deepnote_cell_type": "markdown"
   }
  },
  {
   "cell_type": "code",
   "metadata": {
    "cell_id": "00089-6dae963b-c5d4-49a4-9040-e075da722a2d",
    "deepnote_cell_type": "code"
   },
   "source": "g=(x**2 for x in [1,2,3])\ng",
   "execution_count": 61,
   "outputs": [
    {
     "data": {
      "text/plain": "<generator object <genexpr> at 0x7f48d422dd00>"
     },
     "execution_count": 61,
     "metadata": {},
     "output_type": "execute_result"
    }
   ]
  },
  {
   "cell_type": "code",
   "metadata": {
    "cell_id": "00090-b14883dc-cf60-4291-95b4-cff5e96002ef",
    "deepnote_cell_type": "code"
   },
   "source": "for a in g:\n    print(a)",
   "execution_count": 62,
   "outputs": [
    {
     "name": "stdout",
     "output_type": "stream",
     "text": "1\n4\n9\n"
    }
   ]
  },
  {
   "cell_type": "markdown",
   "source": "## Funciones",
   "metadata": {
    "cell_id": "00091-0dc56c0b-50b9-4769-ac48-965a23fc76aa",
    "deepnote_cell_type": "markdown"
   }
  },
  {
   "cell_type": "markdown",
   "source": "Las $\\lambda$-expresiones se pueden usar como funciones de usar y tirar",
   "metadata": {
    "cell_id": "00092-d9c6d316-cd0f-4e45-9652-7493b0e10ebc",
    "deepnote_cell_type": "markdown"
   }
  },
  {
   "cell_type": "code",
   "metadata": {
    "cell_id": "00093-ad2caa41-f229-48f3-bf8b-8223bd5b9f84",
    "deepnote_cell_type": "code"
   },
   "source": "signo=lambda x:1 if x>0 else -1",
   "execution_count": 63,
   "outputs": []
  },
  {
   "cell_type": "code",
   "metadata": {
    "cell_id": "00094-d98e82cb-26cc-4570-9207-327e32a5bef2",
    "deepnote_cell_type": "code"
   },
   "source": "signo(2)",
   "execution_count": 64,
   "outputs": [
    {
     "data": {
      "text/plain": "1"
     },
     "execution_count": 64,
     "metadata": {},
     "output_type": "execute_result"
    }
   ]
  },
  {
   "cell_type": "code",
   "metadata": {
    "cell_id": "00095-1fddb784-7c9b-4da7-bc31-73f9199c18b0",
    "deepnote_cell_type": "code"
   },
   "source": "{signo(x) for x in range(-2,2)}",
   "execution_count": 65,
   "outputs": [
    {
     "data": {
      "text/plain": "{-1, 1}"
     },
     "execution_count": 65,
     "metadata": {},
     "output_type": "execute_result"
    }
   ]
  },
  {
   "cell_type": "markdown",
   "source": "También podemos especificar una serie de parámetros como argumentos, y alguno de ellos puede ser opcional\n\nPor defecto el valor que devuelve la función es `None`, a no ser que se especifique uno con `return`",
   "metadata": {
    "cell_id": "00096-7f07f172-335f-489e-8e85-dc6600d1e4ad",
    "deepnote_cell_type": "markdown"
   }
  },
  {
   "cell_type": "code",
   "metadata": {
    "cell_id": "00097-f6e45db4-fc61-4a81-8f9b-f73e622fb6ad",
    "deepnote_cell_type": "code"
   },
   "source": "def muchos(x,veces=2):\n    return x*veces",
   "execution_count": 66,
   "outputs": []
  },
  {
   "cell_type": "code",
   "metadata": {
    "scrolled": true,
    "cell_id": "00098-3116ae04-8714-4109-aac3-446e30fbb44b",
    "deepnote_cell_type": "code"
   },
   "source": "muchos(3)",
   "execution_count": 67,
   "outputs": [
    {
     "data": {
      "text/plain": "6"
     },
     "execution_count": 67,
     "metadata": {},
     "output_type": "execute_result"
    }
   ]
  },
  {
   "cell_type": "code",
   "metadata": {
    "cell_id": "00099-90e3ae88-2c29-4afd-b3f0-04bd1cfcf9fe",
    "deepnote_cell_type": "code"
   },
   "source": "muchos(3,4)",
   "execution_count": 68,
   "outputs": [
    {
     "data": {
      "text/plain": "12"
     },
     "execution_count": 68,
     "metadata": {},
     "output_type": "execute_result"
    }
   ]
  },
  {
   "cell_type": "markdown",
   "source": "Podemos también devolver una función, o que alguno de los argumentos sea una función",
   "metadata": {
    "cell_id": "00100-434cc1ff-bc6e-41ef-a31b-326b8b6779de",
    "deepnote_cell_type": "markdown"
   }
  },
  {
   "cell_type": "code",
   "metadata": {
    "cell_id": "00101-98af22e5-0b18-4bbb-b535-bfa301071f0c",
    "deepnote_cell_type": "code"
   },
   "source": "def aplica(x,y):\n    return x(y)",
   "execution_count": 69,
   "outputs": []
  },
  {
   "cell_type": "code",
   "metadata": {
    "cell_id": "00102-189180fe-a4cf-4803-bc1f-120b12a0d759",
    "deepnote_cell_type": "code"
   },
   "source": "aplica(signo,2)",
   "execution_count": 70,
   "outputs": [
    {
     "data": {
      "text/plain": "1"
     },
     "execution_count": 70,
     "metadata": {},
     "output_type": "execute_result"
    }
   ]
  },
  {
   "cell_type": "code",
   "metadata": {
    "cell_id": "00103-7209d402-9a01-4fc5-a93a-fdcd9ce741dc",
    "deepnote_cell_type": "code"
   },
   "source": "def multiplicapor(x):\n    return lambda y:x*y",
   "execution_count": 71,
   "outputs": []
  },
  {
   "cell_type": "code",
   "metadata": {
    "cell_id": "00104-a6df95d3-9e9f-4db2-a86d-cf1fb906276b",
    "deepnote_cell_type": "code"
   },
   "source": "multiplicapor(3)(4)",
   "execution_count": 72,
   "outputs": [
    {
     "data": {
      "text/plain": "12"
     },
     "execution_count": 72,
     "metadata": {},
     "output_type": "execute_result"
    }
   ]
  },
  {
   "cell_type": "markdown",
   "source": "No hay declaración de variables locales (de hecho tampoco se declaran las variables globales)",
   "metadata": {
    "cell_id": "00105-ecb536a4-7eee-4c42-ae5b-1cdb0bf79ed8",
    "deepnote_cell_type": "markdown"
   }
  },
  {
   "cell_type": "code",
   "metadata": {
    "scrolled": true,
    "cell_id": "00106-07a6e9f0-65c7-4705-a446-f896ac94a610",
    "deepnote_cell_type": "code"
   },
   "source": "def f(x,l):\n    s=0\n    for y in l:\n        if y%x==0:\n            s=s+y\n    return s\nf(2,[2,4,5,6])",
   "execution_count": 73,
   "outputs": [
    {
     "data": {
      "text/plain": "12"
     },
     "execution_count": 73,
     "metadata": {},
     "output_type": "execute_result"
    }
   ]
  },
  {
   "cell_type": "markdown",
   "source": "Veamos un par de ejemplos para ver el comportamiento local - global",
   "metadata": {
    "tags": [],
    "cell_id": "00107-a8b714a1-bd8a-4bb2-90d9-9b8bcc710507",
    "deepnote_to_be_reexecuted": false,
    "source_hash": "baf68a3e",
    "execution_start": 1634666264947,
    "execution_millis": 20,
    "deepnote_cell_type": "markdown"
   },
   "outputs": [],
   "execution_count": 14
  },
  {
   "cell_type": "code",
   "source": "a = 2\ndef f(b):\n    return a+b",
   "metadata": {
    "tags": [],
    "cell_id": "00108-16543fb9-63d8-46d7-b6ff-a9aa6725a81e",
    "deepnote_to_be_reexecuted": false,
    "source_hash": "674133ee",
    "execution_start": 1634666307969,
    "execution_millis": 0,
    "deepnote_cell_type": "code"
   },
   "outputs": [],
   "execution_count": 15
  },
  {
   "cell_type": "code",
   "source": "(f(1),a)",
   "metadata": {
    "tags": [],
    "cell_id": "00109-b9f4a9fb-d3d8-4eb8-a6af-dbfa243dd052",
    "deepnote_to_be_reexecuted": false,
    "source_hash": "f18101ae",
    "execution_start": 1634666335139,
    "execution_millis": 5,
    "deepnote_cell_type": "code"
   },
   "outputs": [
    {
     "output_type": "execute_result",
     "execution_count": 17,
     "data": {
      "text/plain": "(3, 2)"
     },
     "metadata": {}
    }
   ],
   "execution_count": 17
  },
  {
   "cell_type": "code",
   "source": "a=2 \ndef f(b):\n    a=a+1\n    return a+b",
   "metadata": {
    "tags": [],
    "cell_id": "00110-710477c5-3e20-46ed-8b23-73af50d79350",
    "deepnote_to_be_reexecuted": false,
    "source_hash": "28ceeba8",
    "execution_start": 1634666357226,
    "execution_millis": 0,
    "deepnote_cell_type": "code"
   },
   "outputs": [],
   "execution_count": 18
  },
  {
   "cell_type": "code",
   "source": "f(1)",
   "metadata": {
    "tags": [],
    "cell_id": "00111-9e8ab579-d5d8-4aa1-943e-31a27ac1d0ba",
    "deepnote_to_be_reexecuted": false,
    "source_hash": "c21c49eb",
    "execution_start": 1634666363950,
    "execution_millis": 1464,
    "deepnote_cell_type": "code"
   },
   "outputs": [
    {
     "output_type": "error",
     "ename": "UnboundLocalError",
     "evalue": "local variable 'a' referenced before assignment",
     "traceback": [
      "\u001b[0;31m---------------------------------------------------------------------------\u001b[0m",
      "\u001b[0;31mUnboundLocalError\u001b[0m                         Traceback (most recent call last)",
      "\u001b[0;32m<ipython-input-19-281ab0a37d7d>\u001b[0m in \u001b[0;36m<module>\u001b[0;34m\u001b[0m\n\u001b[0;32m----> 1\u001b[0;31m \u001b[0mf\u001b[0m\u001b[0;34m(\u001b[0m\u001b[0;36m1\u001b[0m\u001b[0;34m)\u001b[0m\u001b[0;34m\u001b[0m\u001b[0;34m\u001b[0m\u001b[0m\n\u001b[0m",
      "\u001b[0;32m<ipython-input-18-83e1b2b6d6e0>\u001b[0m in \u001b[0;36mf\u001b[0;34m(b)\u001b[0m\n\u001b[1;32m      1\u001b[0m \u001b[0ma\u001b[0m\u001b[0;34m=\u001b[0m\u001b[0;36m2\u001b[0m\u001b[0;34m\u001b[0m\u001b[0;34m\u001b[0m\u001b[0m\n\u001b[1;32m      2\u001b[0m \u001b[0;32mdef\u001b[0m \u001b[0mf\u001b[0m\u001b[0;34m(\u001b[0m\u001b[0mb\u001b[0m\u001b[0;34m)\u001b[0m\u001b[0;34m:\u001b[0m\u001b[0;34m\u001b[0m\u001b[0;34m\u001b[0m\u001b[0m\n\u001b[0;32m----> 3\u001b[0;31m     \u001b[0ma\u001b[0m\u001b[0;34m=\u001b[0m\u001b[0ma\u001b[0m\u001b[0;34m+\u001b[0m\u001b[0;36m1\u001b[0m\u001b[0;34m\u001b[0m\u001b[0;34m\u001b[0m\u001b[0m\n\u001b[0m\u001b[1;32m      4\u001b[0m     \u001b[0;32mreturn\u001b[0m \u001b[0ma\u001b[0m\u001b[0;34m+\u001b[0m\u001b[0mb\u001b[0m\u001b[0;34m\u001b[0m\u001b[0;34m\u001b[0m\u001b[0m\n",
      "\u001b[0;31mUnboundLocalError\u001b[0m: local variable 'a' referenced before assignment"
     ]
    }
   ],
   "execution_count": 19
  },
  {
   "cell_type": "code",
   "source": "a=2\ndef f(b):\n    a=7\n    return a+b",
   "metadata": {
    "tags": [],
    "cell_id": "00112-4e891f41-3181-45e4-acf6-4c7703226d5c",
    "deepnote_to_be_reexecuted": false,
    "source_hash": "6001e561",
    "execution_start": 1634666405665,
    "execution_millis": 9,
    "deepnote_cell_type": "code"
   },
   "outputs": [],
   "execution_count": 22
  },
  {
   "cell_type": "code",
   "source": "(f(1),a)",
   "metadata": {
    "tags": [],
    "cell_id": "00113-2747c918-74b8-4a99-8310-47d05d9f0b3c",
    "deepnote_to_be_reexecuted": false,
    "source_hash": "f18101ae",
    "execution_start": 1634666406296,
    "execution_millis": 19,
    "deepnote_cell_type": "code"
   },
   "outputs": [
    {
     "output_type": "execute_result",
     "execution_count": 23,
     "data": {
      "text/plain": "(8, 2)"
     },
     "metadata": {}
    }
   ],
   "execution_count": 23
  },
  {
   "cell_type": "markdown",
   "source": "Las listas son mutables, por lo que lo que hagamos con ellas en una función, afecta su definición",
   "metadata": {
    "cell_id": "00107-8e7df3c2-f37d-4200-9e66-43d902fe11bc",
    "deepnote_cell_type": "markdown"
   }
  },
  {
   "cell_type": "code",
   "metadata": {
    "cell_id": "00108-cb4a830e-cdc9-4be0-b183-597f02e62e05",
    "deepnote_cell_type": "code"
   },
   "source": "def f(x,l,t):\n    for y in l:\n        if y%x==0:\n            t.append(y)\n    return t\nt=[]\nf(2,[2,4,5,6],t)",
   "execution_count": 74,
   "outputs": [
    {
     "data": {
      "text/plain": "[2, 4, 6]"
     },
     "execution_count": 74,
     "metadata": {},
     "output_type": "execute_result"
    }
   ]
  },
  {
   "cell_type": "code",
   "metadata": {
    "cell_id": "00109-0ad5f8ad-389c-4f76-811d-0295f3d80108",
    "deepnote_cell_type": "code"
   },
   "source": "t",
   "execution_count": 75,
   "outputs": [
    {
     "data": {
      "text/plain": "[2, 4, 6]"
     },
     "execution_count": 75,
     "metadata": {},
     "output_type": "execute_result"
    }
   ]
  },
  {
   "cell_type": "code",
   "metadata": {
    "cell_id": "00110-fcc44c5e-2330-4f1e-b9cd-a357606ff6eb",
    "deepnote_cell_type": "code"
   },
   "source": "def f(x,l,t):\n    tt=t.copy()\n    for y in l:\n        if y%x==0:\n            tt.append(y)\n    return tt\nt=[]\nf(2,[2,4,5,6],t)",
   "execution_count": 76,
   "outputs": [
    {
     "data": {
      "text/plain": "[2, 4, 6]"
     },
     "execution_count": 76,
     "metadata": {},
     "output_type": "execute_result"
    }
   ]
  },
  {
   "cell_type": "code",
   "metadata": {
    "cell_id": "00111-b21e9970-a027-43a3-8bea-53cee1adba03",
    "deepnote_cell_type": "code"
   },
   "source": "t",
   "execution_count": 77,
   "outputs": [
    {
     "data": {
      "text/plain": "[]"
     },
     "execution_count": 77,
     "metadata": {},
     "output_type": "execute_result"
    }
   ]
  },
  {
   "cell_type": "markdown",
   "source": "Hemos visto que las funciones pueden tener argumentos opcionales\n\nTambién podemos definir funciones con un número variable de argumentos",
   "metadata": {
    "cell_id": "00112-cd24d8f7-134d-4e46-8840-6a2bfb45b45d",
    "deepnote_cell_type": "markdown"
   }
  },
  {
   "cell_type": "code",
   "metadata": {
    "cell_id": "00113-3897500d-21ef-4275-9d51-1e17aa258a8f",
    "deepnote_cell_type": "code"
   },
   "source": "def suma(*argumentos):\n    s=0\n    if len(argumentos)==1 and (isinstance(argumentos[0],list)):\n        for x in argumentos[0]:\n            s=s+x\n        return s\n    for x in argumentos:\n        s+=x\n    return s",
   "execution_count": 78,
   "outputs": []
  },
  {
   "cell_type": "code",
   "metadata": {
    "cell_id": "00114-e50c6000-10e6-4643-8f36-95ee6fcca377",
    "deepnote_cell_type": "code"
   },
   "source": "suma([1,2,3])",
   "execution_count": 79,
   "outputs": [
    {
     "data": {
      "text/plain": "6"
     },
     "execution_count": 79,
     "metadata": {},
     "output_type": "execute_result"
    }
   ]
  },
  {
   "cell_type": "code",
   "metadata": {
    "scrolled": true,
    "cell_id": "00115-fa2ea231-7d3f-4c2d-8296-e603b531348a",
    "deepnote_cell_type": "code"
   },
   "source": "suma(1,2,3)",
   "execution_count": 80,
   "outputs": [
    {
     "data": {
      "text/plain": "6"
     },
     "execution_count": 80,
     "metadata": {},
     "output_type": "execute_result"
    }
   ]
  },
  {
   "cell_type": "markdown",
   "source": "### Alternativas a la definición compacta de conjuntos",
   "metadata": {
    "cell_id": "00116-1637ae4d-dd0e-4f83-910b-7523ed9db7a8",
    "deepnote_cell_type": "markdown"
   }
  },
  {
   "cell_type": "code",
   "metadata": {
    "cell_id": "00117-697be868-241e-43d8-b927-eddf545f3e91",
    "deepnote_cell_type": "code"
   },
   "source": "list(map(lambda x:x**2, [1,2,3]))",
   "execution_count": 81,
   "outputs": [
    {
     "data": {
      "text/plain": "[1, 4, 9]"
     },
     "execution_count": 81,
     "metadata": {},
     "output_type": "execute_result"
    }
   ]
  },
  {
   "cell_type": "code",
   "metadata": {
    "cell_id": "00118-5dd306f1-5762-483e-b089-a345244067bb",
    "deepnote_cell_type": "code"
   },
   "source": "[x**2 for x in [1,2,3]]",
   "execution_count": 82,
   "outputs": [
    {
     "data": {
      "text/plain": "[1, 4, 9]"
     },
     "execution_count": 82,
     "metadata": {},
     "output_type": "execute_result"
    }
   ]
  },
  {
   "cell_type": "code",
   "metadata": {
    "cell_id": "00119-bb491655-d2eb-4ed1-9d93-9970b40f432a",
    "deepnote_cell_type": "code"
   },
   "source": "list(filter(lambda x:x>0, [-1,0,1,2]))",
   "execution_count": 83,
   "outputs": [
    {
     "data": {
      "text/plain": "[1, 2]"
     },
     "execution_count": 83,
     "metadata": {},
     "output_type": "execute_result"
    }
   ]
  },
  {
   "cell_type": "code",
   "metadata": {
    "cell_id": "00120-027863ab-4de3-4f47-97f8-4175430f0bec",
    "deepnote_cell_type": "code"
   },
   "source": "[x for x in [-1,0,1,2] if x>0]",
   "execution_count": 84,
   "outputs": [
    {
     "data": {
      "text/plain": "[1, 2]"
     },
     "execution_count": 84,
     "metadata": {},
     "output_type": "execute_result"
    }
   ]
  },
  {
   "cell_type": "markdown",
   "source": "Desde la versión 3, se eliminó `reduce`, pero se puede seguir usando del módulo `functools`",
   "metadata": {
    "cell_id": "00121-574e127f-c863-4c45-910b-ef9613bb3bcd",
    "deepnote_cell_type": "markdown"
   }
  },
  {
   "cell_type": "code",
   "metadata": {
    "cell_id": "00122-c8d2dff6-926a-458c-b873-04b081190ba1",
    "deepnote_cell_type": "code"
   },
   "source": "from functools import reduce\nreduce(lambda x,y:x+y, [1,2,3])",
   "execution_count": 85,
   "outputs": [
    {
     "data": {
      "text/plain": "6"
     },
     "execution_count": 85,
     "metadata": {},
     "output_type": "execute_result"
    }
   ]
  },
  {
   "cell_type": "markdown",
   "source": "### Generadores como funciones",
   "metadata": {
    "cell_id": "00123-f857a285-a03d-46d1-bd57-059a4df85b68",
    "deepnote_cell_type": "markdown"
   }
  },
  {
   "cell_type": "code",
   "metadata": {
    "cell_id": "00124-3e519932-f82a-4806-bcd9-855329803c97",
    "deepnote_cell_type": "code"
   },
   "source": "def generador(i,k):\n    while(i<k):\n        yield i**2\n        i+=1",
   "execution_count": 86,
   "outputs": []
  },
  {
   "cell_type": "code",
   "metadata": {
    "cell_id": "00125-6dc1d3dc-6da8-4e84-8ec8-6ea449bd677c",
    "deepnote_cell_type": "code"
   },
   "source": "x=generador(0,3)",
   "execution_count": 87,
   "outputs": []
  },
  {
   "cell_type": "code",
   "metadata": {
    "cell_id": "00126-84238fa1-0f0c-412f-a959-28fdd1a19a7f",
    "deepnote_cell_type": "code"
   },
   "source": "for a in x:\n    print(a)",
   "execution_count": 88,
   "outputs": [
    {
     "name": "stdout",
     "output_type": "stream",
     "text": "0\n1\n4\n"
    }
   ]
  },
  {
   "cell_type": "markdown",
   "source": "Recordemos que este generador también se puede obtener como",
   "metadata": {
    "cell_id": "00127-dacedc62-f624-4c55-a1d8-034d9657caf6",
    "deepnote_cell_type": "markdown"
   }
  },
  {
   "cell_type": "code",
   "metadata": {
    "cell_id": "00128-8d289fd0-51fb-494d-9798-a58956e4d657",
    "deepnote_cell_type": "code"
   },
   "source": "x=(n**2 for n in range(3))",
   "execution_count": 89,
   "outputs": []
  },
  {
   "cell_type": "code",
   "metadata": {
    "cell_id": "00129-dd93a924-be9e-4bf2-892b-9d0d6c95596a",
    "deepnote_cell_type": "code"
   },
   "source": "for a in x:\n    print(a)",
   "execution_count": 90,
   "outputs": [
    {
     "name": "stdout",
     "output_type": "stream",
     "text": "0\n1\n4\n"
    }
   ]
  },
  {
   "cell_type": "markdown",
   "source": "## Clases",
   "metadata": {
    "cell_id": "00130-6514cd5f-2f02-4ad4-8dce-058deaa7f836",
    "deepnote_cell_type": "markdown"
   }
  },
  {
   "cell_type": "code",
   "metadata": {
    "cell_id": "00131-795a4eda-fb2e-4af5-8240-89d344db952b",
    "deepnote_cell_type": "code"
   },
   "source": "class Entero:\n    \"\"\"\n    Un ejemplo de clase de naturales\n    Define un objeto natural\n    Argumento:\n    El argumento es un entero\n    Ejemplo:\n    >>> a=Entero(3)\n    \"\"\"\n    def __init__(self,n):\n        if not(isinstance(n,int)):\n            raise TypeError(\"El argumento debe de ser un entero\")\n        self.entero=n\n    def __str__(self):\n        # se usa cuando se hace un print del objeto\n        return \"El entero \"+str(self.entero)\n    def __repr__(self):\n        return str(self.entero)\n    def __le__(self,other):\n        return self.entero <= other.entero\n    def __add__(self,other):\n        return Entero(self.entero + other.entero)\n    def divisores(self):\n        \"\"\"\n        Calcula los divisores positivos\n        \"\"\"\n        num=self.entero\n        if num==0:\n            raise ValueError(\"No estoy preparado para esto\")\n        # vamos a almacenar los divisores cuando los calculemos\n        # primero veremos si ya los hemos calculado\n        try:\n            divisores=self.divs\n        # en caso contrario, los calculamos y los guardamos\n        except AttributeError:\n            divisores=[x for x in range(1,abs(num) +1) if num%x==0]\n            self.divs=divisores\n        return divisores\n    def multiplicar(self):\n        \"\"\"\n        Define una función que es multiplicar\n        \"\"\"\n        return lambda x: x*self.entero",
   "execution_count": 91,
   "outputs": []
  },
  {
   "cell_type": "code",
   "metadata": {
    "cell_id": "00132-c3ce907e-62c5-428d-a16c-a390cafd8441",
    "deepnote_cell_type": "code"
   },
   "source": "a=Entero(-33)",
   "execution_count": 92,
   "outputs": []
  },
  {
   "cell_type": "code",
   "metadata": {
    "cell_id": "00133-88827b00-1549-4db4-9f0a-2885875a4abc",
    "deepnote_cell_type": "code"
   },
   "source": "a.entero",
   "execution_count": 93,
   "outputs": [
    {
     "data": {
      "text/plain": "-33"
     },
     "execution_count": 93,
     "metadata": {},
     "output_type": "execute_result"
    }
   ]
  },
  {
   "cell_type": "code",
   "metadata": {
    "cell_id": "00134-ebcac409-7ebf-45a2-b2bd-4560cd202ec6",
    "deepnote_cell_type": "code"
   },
   "source": "print(a)",
   "execution_count": 94,
   "outputs": [
    {
     "name": "stdout",
     "output_type": "stream",
     "text": "El entero -33\n"
    }
   ]
  },
  {
   "cell_type": "code",
   "metadata": {
    "cell_id": "00135-9c2a7ce4-ad76-4794-9fac-88d2298a2f0f",
    "deepnote_cell_type": "code"
   },
   "source": "a",
   "execution_count": 95,
   "outputs": [
    {
     "data": {
      "text/plain": "-33"
     },
     "execution_count": 95,
     "metadata": {},
     "output_type": "execute_result"
    }
   ]
  },
  {
   "cell_type": "code",
   "metadata": {
    "cell_id": "00136-d36ead70-7ed8-440e-894d-6eb37a496ef8",
    "deepnote_cell_type": "code"
   },
   "source": "a.divisores()",
   "execution_count": 96,
   "outputs": [
    {
     "data": {
      "text/plain": "[1, 3, 11, 33]"
     },
     "execution_count": 96,
     "metadata": {},
     "output_type": "execute_result"
    }
   ]
  },
  {
   "cell_type": "code",
   "metadata": {
    "cell_id": "00137-e3ed7835-4c74-4374-a3b8-0b2b434ba184",
    "deepnote_cell_type": "code"
   },
   "source": "b=Entero(2)",
   "execution_count": 97,
   "outputs": []
  },
  {
   "cell_type": "code",
   "metadata": {
    "cell_id": "00138-a86b7464-5f8f-4511-82e5-d5be50bcb4ac",
    "deepnote_cell_type": "code"
   },
   "source": "b<=a",
   "execution_count": 98,
   "outputs": [
    {
     "data": {
      "text/plain": "False"
     },
     "execution_count": 98,
     "metadata": {},
     "output_type": "execute_result"
    }
   ]
  },
  {
   "cell_type": "code",
   "metadata": {
    "cell_id": "00139-82991886-eb58-4c46-9b2f-fdbdbd4cce08",
    "deepnote_cell_type": "code"
   },
   "source": "a<=b",
   "execution_count": 99,
   "outputs": [
    {
     "data": {
      "text/plain": "True"
     },
     "execution_count": 99,
     "metadata": {},
     "output_type": "execute_result"
    }
   ]
  },
  {
   "cell_type": "code",
   "metadata": {
    "cell_id": "00140-7ef28498-f938-4717-95b1-0ab41db1e73b",
    "deepnote_cell_type": "code"
   },
   "source": "a+b",
   "execution_count": 100,
   "outputs": [
    {
     "data": {
      "text/plain": "-31"
     },
     "execution_count": 100,
     "metadata": {},
     "output_type": "execute_result"
    }
   ]
  },
  {
   "cell_type": "code",
   "metadata": {
    "cell_id": "00141-968026fc-92be-4177-ad45-b9eab3763179",
    "deepnote_cell_type": "code"
   },
   "source": "a.__le__(b)",
   "execution_count": 101,
   "outputs": [
    {
     "data": {
      "text/plain": "True"
     },
     "execution_count": 101,
     "metadata": {},
     "output_type": "execute_result"
    }
   ]
  },
  {
   "cell_type": "code",
   "metadata": {
    "cell_id": "00142-340b31a9-8984-4279-97f8-e35d30b46fba",
    "deepnote_cell_type": "code"
   },
   "source": "a.multiplicar()(4)",
   "execution_count": 102,
   "outputs": [
    {
     "data": {
      "text/plain": "-132"
     },
     "execution_count": 102,
     "metadata": {},
     "output_type": "execute_result"
    }
   ]
  },
  {
   "cell_type": "code",
   "metadata": {
    "cell_id": "00143-4028c20c-cc34-4668-b267-40ebac72af4a",
    "deepnote_cell_type": "code"
   },
   "source": "class Natural(Entero):\n    def __init__(self,n):\n        if not(isinstance(n,int)):\n            raise TypeError(\"El argumento debe de ser un entero\")\n        if n<0:\n            raise ValueError(\"Los enteros negativos no son naturales\")\n        self.entero=n\n    def __str__(self):\n        return \"El natural \"+str(self.entero)",
   "execution_count": 103,
   "outputs": []
  },
  {
   "cell_type": "code",
   "metadata": {
    "cell_id": "00144-0589cc22-db0c-4b4b-b8e0-7dda32ad390c",
    "deepnote_cell_type": "code"
   },
   "source": "a=Natural(1)",
   "execution_count": 104,
   "outputs": []
  },
  {
   "cell_type": "code",
   "metadata": {
    "cell_id": "00145-e46c159d-a235-484f-923c-64b15d216b56",
    "deepnote_cell_type": "code"
   },
   "source": "print(a)",
   "execution_count": 105,
   "outputs": [
    {
     "name": "stdout",
     "output_type": "stream",
     "text": "El natural 1\n"
    }
   ]
  },
  {
   "cell_type": "code",
   "metadata": {
    "cell_id": "00146-d0a6fcb3-0115-4632-b3dc-b784abee298c",
    "deepnote_cell_type": "code"
   },
   "source": "a.divisores()",
   "execution_count": 106,
   "outputs": [
    {
     "data": {
      "text/plain": "[1]"
     },
     "execution_count": 106,
     "metadata": {},
     "output_type": "execute_result"
    }
   ]
  },
  {
   "cell_type": "markdown",
   "source": "<a style='text-decoration:none;line-height:16px;display:flex;color:#5B5B62;padding:10px;justify-content:end;' href='https://deepnote.com?utm_source=created-in-deepnote-cell&projectId=d2258c74-99d5-447a-9f74-b4b8e0c4aeca' target=\"_blank\">\n<img alt='Created in deepnote.com' style='display:inline;max-height:16px;margin:0px;margin-right:7.5px;' src='data:image/svg+xml;base64,PD94bWwgdmVyc2lvbj0iMS4wIiBlbmNvZGluZz0iVVRGLTgiPz4KPHN2ZyB3aWR0aD0iODBweCIgaGVpZ2h0PSI4MHB4IiB2aWV3Qm94PSIwIDAgODAgODAiIHZlcnNpb249IjEuMSIgeG1sbnM9Imh0dHA6Ly93d3cudzMub3JnLzIwMDAvc3ZnIiB4bWxuczp4bGluaz0iaHR0cDovL3d3dy53My5vcmcvMTk5OS94bGluayI+CiAgICA8IS0tIEdlbmVyYXRvcjogU2tldGNoIDU0LjEgKDc2NDkwKSAtIGh0dHBzOi8vc2tldGNoYXBwLmNvbSAtLT4KICAgIDx0aXRsZT5Hcm91cCAzPC90aXRsZT4KICAgIDxkZXNjPkNyZWF0ZWQgd2l0aCBTa2V0Y2guPC9kZXNjPgogICAgPGcgaWQ9IkxhbmRpbmciIHN0cm9rZT0ibm9uZSIgc3Ryb2tlLXdpZHRoPSIxIiBmaWxsPSJub25lIiBmaWxsLXJ1bGU9ImV2ZW5vZGQiPgogICAgICAgIDxnIGlkPSJBcnRib2FyZCIgdHJhbnNmb3JtPSJ0cmFuc2xhdGUoLTEyMzUuMDAwMDAwLCAtNzkuMDAwMDAwKSI+CiAgICAgICAgICAgIDxnIGlkPSJHcm91cC0zIiB0cmFuc2Zvcm09InRyYW5zbGF0ZSgxMjM1LjAwMDAwMCwgNzkuMDAwMDAwKSI+CiAgICAgICAgICAgICAgICA8cG9seWdvbiBpZD0iUGF0aC0yMCIgZmlsbD0iIzAyNjVCNCIgcG9pbnRzPSIyLjM3NjIzNzYyIDgwIDM4LjA0NzY2NjcgODAgNTcuODIxNzgyMiA3My44MDU3NTkyIDU3LjgyMTc4MjIgMzIuNzU5MjczOSAzOS4xNDAyMjc4IDMxLjY4MzE2ODMiPjwvcG9seWdvbj4KICAgICAgICAgICAgICAgIDxwYXRoIGQ9Ik0zNS4wMDc3MTgsODAgQzQyLjkwNjIwMDcsNzYuNDU0OTM1OCA0Ny41NjQ5MTY3LDcxLjU0MjI2NzEgNDguOTgzODY2LDY1LjI2MTk5MzkgQzUxLjExMjI4OTksNTUuODQxNTg0MiA0MS42NzcxNzk1LDQ5LjIxMjIyODQgMjUuNjIzOTg0Niw0OS4yMTIyMjg0IEMyNS40ODQ5Mjg5LDQ5LjEyNjg0NDggMjkuODI2MTI5Niw0My4yODM4MjQ4IDM4LjY0NzU4NjksMzEuNjgzMTY4MyBMNzIuODcxMjg3MSwzMi41NTQ0MjUgTDY1LjI4MDk3Myw2Ny42NzYzNDIxIEw1MS4xMTIyODk5LDc3LjM3NjE0NCBMMzUuMDA3NzE4LDgwIFoiIGlkPSJQYXRoLTIyIiBmaWxsPSIjMDAyODY4Ij48L3BhdGg+CiAgICAgICAgICAgICAgICA8cGF0aCBkPSJNMCwzNy43MzA0NDA1IEwyNy4xMTQ1MzcsMC4yNTcxMTE0MzYgQzYyLjM3MTUxMjMsLTEuOTkwNzE3MDEgODAsMTAuNTAwMzkyNyA4MCwzNy43MzA0NDA1IEM4MCw2NC45NjA0ODgyIDY0Ljc3NjUwMzgsNzkuMDUwMzQxNCAzNC4zMjk1MTEzLDgwIEM0Ny4wNTUzNDg5LDc3LjU2NzA4MDggNTMuNDE4MjY3Nyw3MC4zMTM2MTAzIDUzLjQxODI2NzcsNTguMjM5NTg4NSBDNTMuNDE4MjY3Nyw0MC4xMjg1NTU3IDM2LjMwMzk1NDQsMzcuNzMwNDQwNSAyNS4yMjc0MTcsMzcuNzMwNDQwNSBDMTcuODQzMDU4NiwzNy43MzA0NDA1IDkuNDMzOTE5NjYsMzcuNzMwNDQwNSAwLDM3LjczMDQ0MDUgWiIgaWQ9IlBhdGgtMTkiIGZpbGw9IiMzNzkzRUYiPjwvcGF0aD4KICAgICAgICAgICAgPC9nPgogICAgICAgIDwvZz4KICAgIDwvZz4KPC9zdmc+' > </img>\nCreated in <span style='font-weight:600;margin-left:4px;'>Deepnote</span></a>",
   "metadata": {
    "tags": [],
    "created_in_deepnote_cell": true,
    "deepnote_cell_type": "markdown"
   }
  }
 ],
 "nbformat": 4,
 "nbformat_minor": 1,
 "metadata": {
  "kernelspec": {
   "display_name": "Python 3",
   "language": "python",
   "name": "python3"
  },
  "language_info": {
   "codemirror_mode": {
    "name": "ipython",
    "version": 3
   },
   "file_extension": ".py",
   "mimetype": "text/x-python",
   "name": "python",
   "nbconvert_exporter": "python",
   "pygments_lexer": "ipython3",
   "version": "3.6.9"
  },
  "deepnote_notebook_id": "5737a522-1684-4ff1-bfc7-b1df4a3aadef",
  "deepnote": {},
  "deepnote_execution_queue": []
 }
}